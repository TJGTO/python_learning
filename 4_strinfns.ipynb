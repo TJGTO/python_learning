{
 "cells": [
  {
   "cell_type": "code",
   "execution_count": 4,
   "metadata": {},
   "outputs": [
    {
     "name": "stdout",
     "output_type": "stream",
     "text": [
      "yt\n"
     ]
    }
   ],
   "source": [
    "# String Creation (similar to JavaScript)\n",
    "single_quotes = 'Hello'\n",
    "double_quotes = \"Hello\"\n",
    "multi_line = \"\"\"\n",
    "This is a\n",
    "multi-line string\n",
    "\"\"\"\n",
    "\n",
    "# String Methods (similar to JavaScript but with different syntax)\n",
    "text = \"Hello, JavaScript Developer!\"\n",
    "\n",
    "# Length (same as JavaScript)\n",
    "length = len(text)  # Instead of text.length\n",
    "\n",
    "# Case Methods\n",
    "upper_case = text.upper()      # Like text.toUpperCase()\n",
    "lower_case = text.lower()      # Like text.toLowerCase()\n",
    "title_case = text.title()      # Capitalizes first letter of each word\n",
    "capitalized = text.capitalize()  # Capitalizes first letter only\n",
    "\n",
    "# Trimming (similar to JavaScript trim)\n",
    "spaces = \"   hello   \"\n",
    "trimmed = spaces.strip()      # Like trim()\n",
    "left_trim = spaces.lstrip()   # Like trimStart()\n",
    "right_trim = spaces.rstrip()  # Like trimEnd()\n",
    "\n",
    "# Finding and Replacing\n",
    "position = text.find(\"JavaScript\")    # Like indexOf()\n",
    "replaced = text.replace(\"JavaScript\", \"Python\")  # Like replace()\n",
    "\n",
    "# Splitting and Joining\n",
    "words = text.split(\",\")        # Like split()\n",
    "joined = \" \".join(words)       # Like join() but different syntax\n",
    "\n",
    "# Checking String Content (returns boolean)\n",
    "starts = text.startswith(\"Hello\")  # Like startsWith()\n",
    "ends = text.endswith(\"!\")          # Like endsWith()\n",
    "contains = \"JavaScript\" in text    # Like includes()\n",
    "\n",
    "# String Formatting (Python specific)\n",
    "name = \"Alice\"\n",
    "age = 30\n",
    "\n",
    "# f-strings (modern, preferred way - similar to template literals)\n",
    "formatted = f\"I am {name} and I am {age} years old\"\n",
    "\n",
    "# .format() method\n",
    "formatted2 = \"I am {} and I am {} years old\".format(name, age)\n",
    "\n",
    "# Checking if string is numeric/alpha\n",
    "\"123\".isdigit()      # True\n",
    "\"abc\".isalpha()      # True\n",
    "\"abc123\".isalnum()   # True\n",
    "\n",
    "# Substring (slicing - more powerful than JavaScript)\n",
    "text = \"Python\"\n",
    "first_three = text[:3]    # \"Pyt\"\n",
    "last_three = text[-3:]    # \"hon\"\n",
    "mid = text[1:3]\n",
    "print(mid)\n",
    "reversed = text[::-1]     # \"nohtyP\"\n",
    "\n",
    "# String Methods Chaining (similar to JavaScript)\n",
    "result = text.lower().replace(\"javascript\", \"python\").strip()\n",
    "\n",
    "# Raw Strings (useful for regex or file paths)\n",
    "raw_string = r\"C:\\Users\\name\"  # Backslashes are treated literally\n"
   ]
  }
 ],
 "metadata": {
  "kernelspec": {
   "display_name": "Python 3",
   "language": "python",
   "name": "python3"
  },
  "language_info": {
   "codemirror_mode": {
    "name": "ipython",
    "version": 3
   },
   "file_extension": ".py",
   "mimetype": "text/x-python",
   "name": "python",
   "nbconvert_exporter": "python",
   "pygments_lexer": "ipython3",
   "version": "3.12.8"
  }
 },
 "nbformat": 4,
 "nbformat_minor": 2
}
