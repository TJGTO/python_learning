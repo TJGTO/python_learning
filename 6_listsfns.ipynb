{
 "cells": [
  {
   "cell_type": "code",
   "execution_count": null,
   "metadata": {},
   "outputs": [],
   "source": [
    "# Creating Lists (similar to JavaScript arrays)\n",
    "fruits = [\"apple\", \"banana\", \"orange\"]\n",
    "numbers = [1, 2, 3, 4, 5]\n",
    "mixed = [1, \"hello\", True, 3.14]  # Can store different types\n",
    "\n",
    "# List Methods\n",
    "\n",
    "# Adding Elements\n",
    "fruits.append(\"mango\")      # Like push() - adds to end\n",
    "fruits.insert(1, \"grape\")   # Insert at specific index\n",
    "fruits.extend([\"kiwi\", \"pear\"])  # Adds multiple items (like spread operator)\n",
    "\n",
    "# Removing Elements\n",
    "fruits.remove(\"apple\")      # Removes first occurrence of value\n",
    "last_item = fruits.pop()    # Removes and returns last item\n",
    "fruits.pop(1)              # Removes item at index\n",
    "fruits.clear()             # Removes all items (empty list)\n",
    "\n",
    "# Finding Elements\n",
    "index = fruits.index(\"banana\")  # Find index of first occurrence\n",
    "count = fruits.count(\"apple\")   # Count occurrences of value\n",
    "\n",
    "# Sorting\n",
    "fruits.sort()              # Sorts in place (alphabetically/numerically)\n",
    "fruits.sort(reverse=True)  # Reverse sort\n",
    "fruits.reverse()           # Reverses list order\n",
    "\n",
    "# List Operations\n",
    "length = len(fruits)       # Get length (like array.length)\n",
    "exists = \"apple\" in fruits # Check if item exists\n",
    "\n",
    "# List Slicing (more powerful than JavaScript)\n",
    "first_two = fruits[0:2]    # Get first two items\n",
    "last_two = fruits[-2:]     # Get last two items\n",
    "step = fruits[::2]         # Get every second item\n",
    "reversed = fruits[::-1]    # Reverse list\n",
    "\n",
    "# List Comprehension (unique to Python)\n",
    "squares = [x**2 for x in range(5)]  # [0, 1, 4, 9, 16]\n",
    "evens = [x for x in numbers if x % 2 == 0]  # Filter even numbers\n",
    "\n",
    "# Common Use Cases\n"
   ]
  }
 ],
 "metadata": {
  "kernelspec": {
   "display_name": "Python 3",
   "language": "python",
   "name": "python3"
  },
  "language_info": {
   "name": "python",
   "version": "3.12.8"
  }
 },
 "nbformat": 4,
 "nbformat_minor": 2
}
