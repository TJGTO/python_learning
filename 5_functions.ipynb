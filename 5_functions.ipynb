{
 "cells": [
  {
   "cell_type": "code",
   "execution_count": 4,
   "metadata": {},
   "outputs": [
    {
     "name": "stdout",
     "output_type": "stream",
     "text": [
      "Hello Tathagata\n",
      "Hello Guest\n"
     ]
    }
   ],
   "source": [
    "def greet(name=\"Guest\"):\n",
    "    print(f\"Hello {name}\")\n",
    "\n",
    "greet(\"Tathagata\")\n",
    "greet()"
   ]
  },
  {
   "cell_type": "code",
   "execution_count": 5,
   "metadata": {},
   "outputs": [
    {
     "name": "stdout",
     "output_type": "stream",
     "text": [
      "16\n"
     ]
    }
   ],
   "source": [
    "def square(x):\n",
    "    return x * x\n",
    "print(square(4))"
   ]
  },
  {
   "cell_type": "code",
   "execution_count": 13,
   "metadata": {},
   "outputs": [
    {
     "name": "stdout",
     "output_type": "stream",
     "text": [
      "redefined global\n",
      "local\n",
      "global\n"
     ]
    }
   ],
   "source": [
    "global_var = \"global\"\n",
    "def test_scope():\n",
    "    local_var = \"local\"\n",
    "    global_var = \"redefined global\"\n",
    "    print(global_var)  \n",
    "    print(local_var)   \n",
    "\n",
    "test_scope()\n",
    "print(global_var)\n"
   ]
  },
  {
   "cell_type": "code",
   "execution_count": 14,
   "metadata": {},
   "outputs": [
    {
     "data": {
      "text/plain": [
       "9"
      ]
     },
     "execution_count": 14,
     "metadata": {},
     "output_type": "execute_result"
    }
   ],
   "source": [
    "add = lambda a, b: a + b\n",
    "\n",
    "add(4,5)"
   ]
  },
  {
   "cell_type": "code",
   "execution_count": null,
   "metadata": {},
   "outputs": [
    {
     "ename": "NameError",
     "evalue": "name 'greets' is not defined",
     "output_type": "error",
     "traceback": [
      "\u001b[1;31m---------------------------------------------------------------------------\u001b[0m",
      "\u001b[1;31mNameError\u001b[0m                                 Traceback (most recent call last)",
      "Cell \u001b[1;32mIn[16], line 1\u001b[0m\n\u001b[1;32m----> 1\u001b[0m \u001b[38;5;28mprint\u001b[39m(\u001b[43mgreets\u001b[49m(\u001b[38;5;124m\"\u001b[39m\u001b[38;5;124mJohn\u001b[39m\u001b[38;5;124m\"\u001b[39m))  \u001b[38;5;66;03m# NameError: name 'greet' is not defined\u001b[39;00m\n\u001b[0;32m      3\u001b[0m \u001b[38;5;66;03m# does not support Hoisting\u001b[39;00m\n\u001b[0;32m      5\u001b[0m \u001b[38;5;28;01mdef\u001b[39;00m \u001b[38;5;21mgreets\u001b[39m(name):\n",
      "\u001b[1;31mNameError\u001b[0m: name 'greets' is not defined"
     ]
    }
   ],
   "source": [
    "print(greets(\"John\"))  # NameError: name 'greets' is not defined\n",
    "\n",
    "# does not support Hoisting\n",
    "\n",
    "def greets(name):\n",
    "    return f\"Hello, {name}!\""
   ]
  },
  {
   "cell_type": "code",
   "execution_count": 17,
   "metadata": {},
   "outputs": [
    {
     "name": "stdout",
     "output_type": "stream",
     "text": [
      "Before function call\n",
      "Hello!\n",
      "After function call\n"
     ]
    }
   ],
   "source": [
    "def decorator1(func):\n",
    "    def wrapper():\n",
    "        print(\"Before function call\")\n",
    "        func()\n",
    "        print(\"After function call\")\n",
    "    return wrapper\n",
    "\n",
    "@decorator1\n",
    "def say_hello():\n",
    "    print(\"Hello!\")\n",
    "\n",
    "say_hello()"
   ]
  },
  {
   "cell_type": "code",
   "execution_count": 22,
   "metadata": {},
   "outputs": [
    {
     "name": "stdout",
     "output_type": "stream",
     "text": [
      "{'name': 'John', 'email': 'john@example.com', 'role': 'admin', 'active': True}\n",
      "{'name': 'Alice', 'email': 'alice@example.com', 'role': 'user', 'active': True}\n"
     ]
    }
   ],
   "source": [
    "def create_user(*args, **kwargs):\n",
    "    # *args becomes a tuple of positional arguments\n",
    "    # **kwargs becomes a dictionary of keyword arguments\n",
    "    \n",
    "    # Similar to JavaScript:\n",
    "    # function createUser(...args, { role = 'user', active = true } = {})\n",
    "    \n",
    "    name, email = args  \n",
    "    role = kwargs.get('role', 'user')  \n",
    "    active = kwargs.get('active', True)  \n",
    "    \n",
    "    return {\n",
    "        'name': name,\n",
    "        'email': email,\n",
    "        'role': role,\n",
    "        'active': active\n",
    "    }\n",
    "\n",
    "# Using it:\n",
    "user1 = create_user(\"John\", \"john@example.com\", role=\"admin\")\n",
    "user2 = create_user(\"Alice\", \"alice@example.com\")  \n",
    "\n",
    "print(user1)\n",
    "print(user2)\n"
   ]
  },
  {
   "cell_type": "code",
   "execution_count": 24,
   "metadata": {},
   "outputs": [
    {
     "name": "stdout",
     "output_type": "stream",
     "text": [
      "{'name': 'John', 'email': 'john@example.com', 'age': 30, 'created_at': 'timestamp'}\n"
     ]
    }
   ],
   "source": [
    "def create_user(user_data):\n",
    "    name = user_data.get('name', 'Anonymous')\n",
    "    email = user_data.get('email', '')\n",
    "    age = user_data.get('age', 0)\n",
    "    \n",
    "    return {\n",
    "        'name': name,\n",
    "        'email': email,\n",
    "        'age': age,\n",
    "        'created_at': 'timestamp'\n",
    "    }\n",
    "\n",
    "# Using the function\n",
    "user = create_user({\n",
    "    'name': 'John',\n",
    "    'email': 'john@example.com',\n",
    "    'age': 30\n",
    "})\n",
    "\n",
    "print(user)"
   ]
  },
  {
   "cell_type": "code",
   "execution_count": 26,
   "metadata": {},
   "outputs": [
    {
     "name": "stdout",
     "output_type": "stream",
     "text": [
      "{'name': 'Alice', 'email': 'alice@example.com', 'age': 25, 'created_at': 'timestamp'}\n"
     ]
    }
   ],
   "source": [
    "from typing import TypedDict, Optional\n",
    "\n",
    "class UserData(TypedDict):\n",
    "    name: str\n",
    "    email: str\n",
    "    age: Optional[int]\n",
    "\n",
    "def create_user_typed(user_data: UserData) -> dict:\n",
    "    return {\n",
    "        'name': user_data.get('name', 'Anonymous'),\n",
    "        'email': user_data.get('email', ''),\n",
    "        'age': user_data.get('age', 0),\n",
    "        'created_at': 'timestamp'\n",
    "    }\n",
    "\n",
    "# Using it\n",
    "new_user = create_user_typed({\n",
    "    'name': 'Alice',\n",
    "    'email': 'alice@example.com',\n",
    "    'age': 25\n",
    "})\n",
    "print(new_user)"
   ]
  }
 ],
 "metadata": {
  "kernelspec": {
   "display_name": "Python 3",
   "language": "python",
   "name": "python3"
  },
  "language_info": {
   "codemirror_mode": {
    "name": "ipython",
    "version": 3
   },
   "file_extension": ".py",
   "mimetype": "text/x-python",
   "name": "python",
   "nbconvert_exporter": "python",
   "pygments_lexer": "ipython3",
   "version": "3.12.8"
  }
 },
 "nbformat": 4,
 "nbformat_minor": 2
}
