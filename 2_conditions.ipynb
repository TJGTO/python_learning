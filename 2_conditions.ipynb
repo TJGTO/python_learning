{
 "cells": [
  {
   "cell_type": "code",
   "execution_count": 1,
   "metadata": {},
   "outputs": [
    {
     "name": "stdout",
     "output_type": "stream",
     "text": [
      "Greater than 5\n"
     ]
    }
   ],
   "source": [
    "x = 10\n",
    "if x > 5:\n",
    "    print(\"Greater than 5\")\n",
    "elif x == 5:\n",
    "    print(\"Equal to 5\")\n",
    "else:\n",
    "    print(\"Less than 5\")"
   ]
  },
  {
   "cell_type": "code",
   "execution_count": 8,
   "metadata": {},
   "outputs": [
    {
     "name": "stdout",
     "output_type": "stream",
     "text": [
      "No Value\n",
      "Have No Value\n"
     ]
    }
   ],
   "source": [
    "value = None\n",
    "\n",
    "if value:\n",
    "    print(\"Value\")\n",
    "else:\n",
    "    print(\"No Value\")\n",
    "\n",
    "\n",
    "if value is not None:\n",
    "    print(\"Have Value\")\n",
    "\n",
    "if value is None:\n",
    "    print(\"Have No Value\")"
   ]
  },
  {
   "cell_type": "code",
   "execution_count": 12,
   "metadata": {},
   "outputs": [
    {
     "name": "stdout",
     "output_type": "stream",
     "text": [
      "Value is a list\n",
      "Value is a number\n",
      "Value is a string\n"
     ]
    }
   ],
   "source": [
    "value = [1, 2, 3]\n",
    "value1 = 5\n",
    "value2 = \"tathagata\"\n",
    "if isinstance(value, list):\n",
    "    print(\"Value is a list\")\n",
    "\n",
    "if isinstance(value1, int):\n",
    "    print(\"Value is a number\")\n",
    "\n",
    "if isinstance(value2, str):\n",
    "    print(\"Value is a string\")"
   ]
  },
  {
   "cell_type": "code",
   "execution_count": 4,
   "metadata": {},
   "outputs": [
    {
     "name": "stdout",
     "output_type": "stream",
     "text": [
      "At least one is truthy\n",
      "Value is either None or empty string\n"
     ]
    }
   ],
   "source": [
    "x = True\n",
    "y = False\n",
    "\n",
    "if x or y:\n",
    "    print(\"At least one is truthy\") \n",
    "\n",
    "if x and y:\n",
    "    print(\"Both need to be  true\")\n",
    "\n",
    "value = None\n",
    "if value is None or value == '':\n",
    "    print(\"Value is either None or empty string\")"
   ]
  }
 ],
 "metadata": {
  "kernelspec": {
   "display_name": "Python 3",
   "language": "python",
   "name": "python3"
  },
  "language_info": {
   "codemirror_mode": {
    "name": "ipython",
    "version": 3
   },
   "file_extension": ".py",
   "mimetype": "text/x-python",
   "name": "python",
   "nbconvert_exporter": "python",
   "pygments_lexer": "ipython3",
   "version": "3.12.8"
  }
 },
 "nbformat": 4,
 "nbformat_minor": 2
}
