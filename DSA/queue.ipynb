{
 "cells": [
  {
   "cell_type": "code",
   "execution_count": 5,
   "metadata": {},
   "outputs": [
    {
     "name": "stdout",
     "output_type": "stream",
     "text": [
      "1\n",
      "2\n",
      "3\n",
      "4\n"
     ]
    }
   ],
   "source": [
    "from queue import Queue\n",
    "\n",
    "queue = Queue()\n",
    "\n",
    "# Enqueue elements\n",
    "queue.put(1)\n",
    "queue.put(2)\n",
    "queue.put(3)\n",
    "\n",
    "# Dequeue elements\n",
    "print(queue.get()) \n",
    "print(queue.get()) \n",
    "queue.put(4)\n",
    "print(queue.get()) \n",
    "print(queue.get()) \n",
    "\n",
    "\n"
   ]
  },
  {
   "cell_type": "code",
   "execution_count": 12,
   "metadata": {},
   "outputs": [
    {
     "name": "stdout",
     "output_type": "stream",
     "text": [
      "Size: 0\n"
     ]
    }
   ],
   "source": [
    "\n",
    "q = Queue()\n",
    "q.put(10)\n",
    "q.put(20)\n",
    "q.put(30)\n",
    "\n",
    "# Get size\n",
    "print(\"Size:\", q.qsize()) \n",
    "if not q.empty():\n",
    "    top = q.get()\n",
    "    print(\"Front:\", top)  \n",
    "    q.put(top)"
   ]
  },
  {
   "cell_type": "code",
   "execution_count": 14,
   "metadata": {},
   "outputs": [
    {
     "name": "stdout",
     "output_type": "stream",
     "text": [
      "Size: 3\n",
      "Top: 1\n"
     ]
    }
   ],
   "source": [
    "from queue import PriorityQueue\n",
    "\n",
    "pq = PriorityQueue()\n",
    "pq.put((1, \"task1\")) \n",
    "pq.put((3, \"task3\")) \n",
    "pq.put((2, \"task2\"))  \n",
    "\n",
    "# Get size\n",
    "print(\"Size:\", pq.qsize())\n",
    "\n",
    "if not pq.empty():\n",
    "    top = pq.get()\n",
    "    print(\"Top:\", top[0])  \n",
    "    pq.put(top)\n"
   ]
  }
 ],
 "metadata": {
  "kernelspec": {
   "display_name": "Python 3",
   "language": "python",
   "name": "python3"
  },
  "language_info": {
   "codemirror_mode": {
    "name": "ipython",
    "version": 3
   },
   "file_extension": ".py",
   "mimetype": "text/x-python",
   "name": "python",
   "nbconvert_exporter": "python",
   "pygments_lexer": "ipython3",
   "version": "3.12.8"
  }
 },
 "nbformat": 4,
 "nbformat_minor": 2
}
