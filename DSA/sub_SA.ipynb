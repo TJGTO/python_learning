{
 "cells": [
  {
   "cell_type": "markdown",
   "metadata": {},
   "source": [
    "Sub Array :\n",
    "A subarray is a contiguous part of an array. In other words, a subarray is formed by selecting one or more elements in a sequence from the original array while maintaining their relative order."
   ]
  },
  {
   "cell_type": "markdown",
   "metadata": {},
   "source": [
    "Calculates the total number of possible subarrays for an array of length n using the formula: n * (n + 1) / 2\n"
   ]
  },
  {
   "cell_type": "code",
   "execution_count": 3,
   "metadata": {},
   "outputs": [
    {
     "name": "stdout",
     "output_type": "stream",
     "text": [
      "[1]\n",
      "[1, 2]\n",
      "[1, 2, 3]\n",
      "[2]\n",
      "[2, 3]\n",
      "[3]\n"
     ]
    }
   ],
   "source": [
    "def find_subarrays(arr):\n",
    "    n = len(arr)\n",
    "    result = []\n",
    "\n",
    "    for i in range(n):\n",
    "        for j in range(i,n):\n",
    "            result.append(arr[i:j + 1])\n",
    "    \n",
    "    return result\n",
    "\n",
    "arr = [1, 2, 3]\n",
    "result = find_subarrays(arr)\n",
    "\n",
    "# Print all subarrays\n",
    "for subarray in result:\n",
    "    print(subarray)\n"
   ]
  },
  {
   "cell_type": "markdown",
   "metadata": {},
   "source": [
    "Maximum Subarray :\n",
    "Kadane’s Algorithm"
   ]
  },
  {
   "cell_type": "code",
   "execution_count": null,
   "metadata": {},
   "outputs": [],
   "source": [
    "def max_subarray(nums):\n",
    "    max_sum = float('-inf')  # Smallest possible number\n",
    "    current_sum = 0\n",
    "\n",
    "    for num in nums:\n",
    "        current_sum = max(num, current_sum + num)  # Choose max between new start or extend\n",
    "        max_sum = max(max_sum, current_sum)  # Update max sum found\n",
    "    \n",
    "    return max_sum"
   ]
  },
  {
   "cell_type": "code",
   "execution_count": null,
   "metadata": {},
   "outputs": [],
   "source": [
    "## if we want the max sum and also the subarray\n",
    "def max_subarray(nums):\n",
    "    max_sum = float('-inf')  # Smallest possible number\n",
    "    current_sum = 0\n",
    "    start = end = temp_start = 0  # Track subarray indices\n",
    "\n",
    "    for i, num in enumerate(nums):\n",
    "        if num > current_sum + num:\n",
    "            current_sum = num\n",
    "            temp_start = i  # Start a new subarray\n",
    "        else:\n",
    "            current_sum += num  # Extend the current subarray\n",
    "        \n",
    "        if current_sum > max_sum:\n",
    "            max_sum = current_sum\n",
    "            start = temp_start  # Update best subarray start index\n",
    "            end = i  # Update best subarray end index\n",
    "\n",
    "    return max_sum, nums[start:end + 1]"
   ]
  },
  {
   "cell_type": "code",
   "execution_count": 11,
   "metadata": {},
   "outputs": [
    {
     "name": "stdout",
     "output_type": "stream",
     "text": [
      "{4: 0} 4\n",
      "1\n"
     ]
    }
   ],
   "source": [
    "## Largest subarray with 0 sum\n",
    "\n",
    "def k_sum_aubarray(nums , k):\n",
    "    sum_indices = {}    \n",
    "    temp_sum = 0\n",
    "    max_length = 0\n",
    "    for i , num in enumerate(nums):\n",
    "        temp_sum += num\n",
    "\n",
    "        if temp_sum == k:\n",
    "            max_length = i+1\n",
    "        \n",
    "        if temp_sum - k in sum_indices:\n",
    "            print(sum_indices,temp_sum - k)\n",
    "            max_length = max(max_length, i - sum_indices[temp_sum - k])\n",
    "        \n",
    "        if temp_sum not in sum_indices:\n",
    "            sum_indices[temp_sum] = i  \n",
    "\n",
    "    return max_length\n",
    "\n",
    "print(k_sum_aubarray([4,2,5], 2))"
   ]
  },
  {
   "cell_type": "markdown",
   "metadata": {},
   "source": [
    "What is a Subsequences?\n",
    "A subsequence is a sequence that can be derived from an array by deleting some or no elements without changing the order of the remaining elements."
   ]
  },
  {
   "cell_type": "markdown",
   "metadata": {},
   "source": [
    "The number of subsequences of an array of size n is 2^n (since each element can be either included or not)."
   ]
  },
  {
   "cell_type": "code",
   "execution_count": 13,
   "metadata": {},
   "outputs": [
    {
     "name": "stdout",
     "output_type": "stream",
     "text": [
      "[1, 2, 3]\n",
      "[1, 2]\n",
      "[1, 3]\n",
      "[1]\n",
      "[2, 3]\n",
      "[2]\n",
      "[3]\n",
      "[]\n",
      "['a', 'b', 'c']\n",
      "['a', 'b']\n",
      "['a', 'c']\n",
      "['a']\n",
      "['b', 'c']\n",
      "['b']\n",
      "['c']\n",
      "[]\n"
     ]
    }
   ],
   "source": [
    "def generate_subsequences(arr, index=0, current=[]):\n",
    "    if index == len(arr):\n",
    "        print(current)  # Print the current subsequence\n",
    "        return\n",
    "\n",
    "    # Include the current element\n",
    "    generate_subsequences(arr, index + 1, current + [arr[index]])\n",
    "\n",
    "    # Exclude the current element\n",
    "    generate_subsequences(arr, index + 1, current)\n",
    "\n",
    "# Example usage\n",
    "arr = [1, 2, 3]\n",
    "generate_subsequences(arr)\n",
    "generate_subsequences(\"abc\")"
   ]
  },
  {
   "cell_type": "code",
   "execution_count": null,
   "metadata": {},
   "outputs": [],
   "source": [
    "#Longest Increasing Subsequence\n",
    "class Solution:\n",
    "    def getLongestSubLength(self, index, previdx , n, nums , dp)->int:\n",
    "        if index == n:\n",
    "            return 0\n",
    "        if dp[index][previdx+1] != -1:\n",
    "            return dp[index][previdx+1]\n",
    "\n",
    "        len = 0 + self.getLongestSubLength(index+1,previdx,n,nums,dp)\n",
    "\n",
    "        if previdx == -1 or nums[index] > nums[previdx]:\n",
    "            len = max(len , 1 + self.getLongestSubLength(index+1,index,n,nums,dp))\n",
    "        \n",
    "        dp[index][previdx+1] = len\n",
    "\n",
    "        return len\n",
    "\n",
    "    def lengthOfLIS(self, nums) -> int:\n",
    "        length = len(nums)\n",
    "        dp = [[-1] *(length+1)] * length\n",
    "        return self.getLongestSubLength(0,-1,length,nums,dp)\n",
    "        "
   ]
  },
  {
   "cell_type": "code",
   "execution_count": null,
   "metadata": {},
   "outputs": [],
   "source": [
    "###Longest Palindromic Substring\n",
    "class Solution:\n",
    "     def longestPalindrome(self, s: str) -> str:\n",
    "        n = len(s)\n",
    "        if n == 0:\n",
    "            return \"\"\n",
    "\n",
    "        dp = [[False for _ in range(n)] for _ in range(n)]\n",
    "\n",
    "        start = 0\n",
    "        max_length = 1\n",
    "\n",
    "        for g in range(n):  # g is the gap between i and j\n",
    "            j = g\n",
    "            for i in range(n - g):  # Ensure i + g is within bounds\n",
    "                if g == 0:  # Single character is always a palindrome\n",
    "                    dp[i][j] = True\n",
    "                elif g == 1:  # Check if two adjacent characters are the same\n",
    "                    dp[i][j] = (s[i] == s[j])\n",
    "                else:  # Check for longer substrings\n",
    "                    if s[i] == s[j] and dp[i + 1][j - 1]:\n",
    "                        dp[i][j] = True\n",
    "                    else:\n",
    "                        dp[i][j] = False\n",
    "\n",
    "                # Update the longest palindrome\n",
    "                if dp[i][j] and g + 1 > max_length:\n",
    "                    max_length = g + 1\n",
    "                    start = i\n",
    "\n",
    "                j += 1\n",
    "\n",
    "        # Return the longest palindrome substring\n",
    "        return s[start:start + max_length]"
   ]
  }
 ],
 "metadata": {
  "kernelspec": {
   "display_name": "Python 3",
   "language": "python",
   "name": "python3"
  },
  "language_info": {
   "codemirror_mode": {
    "name": "ipython",
    "version": 3
   },
   "file_extension": ".py",
   "mimetype": "text/x-python",
   "name": "python",
   "nbconvert_exporter": "python",
   "pygments_lexer": "ipython3",
   "version": "3.12.9"
  }
 },
 "nbformat": 4,
 "nbformat_minor": 2
}
