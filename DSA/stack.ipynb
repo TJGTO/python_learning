{
 "cells": [
  {
   "cell_type": "code",
   "execution_count": 1,
   "metadata": {},
   "outputs": [
    {
     "name": "stdout",
     "output_type": "stream",
     "text": [
      "[1, 2, 3]\n",
      "3\n",
      "2\n",
      "[1]\n"
     ]
    }
   ],
   "source": [
    "stack = []\n",
    "\n",
    "# Push elements\n",
    "stack.append(1)\n",
    "stack.append(2)\n",
    "stack.append(3)\n",
    "print(stack)  \n",
    "\n",
    "# Pop elements\n",
    "print(stack.pop())  \n",
    "print(stack.pop())  \n",
    "print(stack)        \n"
   ]
  },
  {
   "cell_type": "code",
   "execution_count": 4,
   "metadata": {},
   "outputs": [
    {
     "name": "stdout",
     "output_type": "stream",
     "text": [
      "deque([1, 2, 3])\n",
      "3\n",
      "3\n",
      "2\n",
      "deque([1])\n",
      "1\n"
     ]
    }
   ],
   "source": [
    "from collections import deque\n",
    "\n",
    "stack = deque()\n",
    "\n",
    "# Push elements\n",
    "stack.append(1)\n",
    "stack.append(2)\n",
    "stack.append(3)\n",
    "print(stack)  \n",
    "\n",
    "top = stack[-1]\n",
    "print(top)\n",
    "\n",
    "# Pop elements\n",
    "print(stack.pop())  \n",
    "print(stack.pop()) \n",
    "print(stack)        \n",
    "\n",
    "# Get the size\n",
    "size = len(stack)\n",
    "print(size)"
   ]
  }
 ],
 "metadata": {
  "kernelspec": {
   "display_name": "Python 3",
   "language": "python",
   "name": "python3"
  },
  "language_info": {
   "codemirror_mode": {
    "name": "ipython",
    "version": 3
   },
   "file_extension": ".py",
   "mimetype": "text/x-python",
   "name": "python",
   "nbconvert_exporter": "python",
   "pygments_lexer": "ipython3",
   "version": "3.12.8"
  }
 },
 "nbformat": 4,
 "nbformat_minor": 2
}
