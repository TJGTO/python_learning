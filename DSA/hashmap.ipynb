{
 "cells": [
  {
   "cell_type": "code",
   "execution_count": 2,
   "metadata": {},
   "outputs": [
    {
     "name": "stdout",
     "output_type": "stream",
     "text": [
      "1\n",
      "True\n",
      "two: 2\n",
      "three: 3\n"
     ]
    }
   ],
   "source": [
    "\n",
    "map = {\"one\": 1, \"two\": 2}\n",
    "\n",
    "map[\"three\"] = 3\n",
    "\n",
    "# Access a value\n",
    "print(map[\"one\"]) \n",
    "\n",
    "# Check if a key exists\n",
    "print(\"two\" in map)  \n",
    "\n",
    "# Remove a key\n",
    "del map[\"one\"]\n",
    "\n",
    "# Iterate over key-value pairs\n",
    "for key, value in map.items():\n",
    "    print(f\"{key}: {value}\")\n"
   ]
  }
 ],
 "metadata": {
  "kernelspec": {
   "display_name": "Python 3",
   "language": "python",
   "name": "python3"
  },
  "language_info": {
   "codemirror_mode": {
    "name": "ipython",
    "version": 3
   },
   "file_extension": ".py",
   "mimetype": "text/x-python",
   "name": "python",
   "nbconvert_exporter": "python",
   "pygments_lexer": "ipython3",
   "version": "3.12.8"
  }
 },
 "nbformat": 4,
 "nbformat_minor": 2
}
