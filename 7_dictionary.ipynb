{
 "cells": [
  {
   "cell_type": "code",
   "execution_count": 5,
   "metadata": {},
   "outputs": [
    {
     "name": "stdout",
     "output_type": "stream",
     "text": [
      "Alice\n",
      "name: Alice\n",
      "age: 30\n",
      "city: New York\n"
     ]
    }
   ],
   "source": [
    "dictionary = {\"name\": \"Alice\", \"age\": 30}\n",
    "\n",
    "print(dictionary[\"name\"])\n",
    "\n",
    "dictionary[\"city\"] = \"New York\"\n",
    "\n",
    "for key, value in dictionary.items():\n",
    "    print(f\"{key}: {value}\")"
   ]
  },
  {
   "cell_type": "code",
   "execution_count": 11,
   "metadata": {},
   "outputs": [
    {
     "name": "stdout",
     "output_type": "stream",
     "text": [
      "Alice\n",
      "Unknown\n",
      "dict_keys(['name', 'age'])\n",
      "dict_values(['Alice', 30])\n",
      "30\n",
      "{'name': 'Alice'}\n",
      "{'name': 'Alice', 'job': 'Engineer', 'city': 'New York'}\n",
      "{}\n"
     ]
    }
   ],
   "source": [
    "person = {\"name\": \"Alice\", \"age\": 30}\n",
    "print(person.get(\"name\")) \n",
    "print(person.get(\"job\", \"Unknown\")) \n",
    "print(person.keys())\n",
    "print(person.values()) \n",
    "\n",
    "age = person.pop(\"age\")\n",
    "print(age)\n",
    "print(person)\n",
    "\n",
    "person.update({\"job\": \"Engineer\", \"city\": \"New York\"})\n",
    "print(person)\n",
    "\n",
    "person.clear()\n",
    "print(person)"
   ]
  },
  {
   "cell_type": "code",
   "execution_count": null,
   "metadata": {},
   "outputs": [
    {
     "name": "stdout",
     "output_type": "stream",
     "text": [
      "{'price': 400, 'size': 'XL'}\n",
      "{'price': 400, 'size': 'XL'}\n",
      "{'price': 400, 'size': 'XL'}\n",
      "{'price': 400, 'size': 'XL', 'brand': 'polo'}\n",
      "price is present\n"
     ]
    }
   ],
   "source": [
    "import copy\n",
    "\n",
    "order = {\"price\":400, \"size\":\"XL\"}\n",
    "order_copy = order.copy() #shallow copy\n",
    "print(order_copy)\n",
    "\n",
    "order_deep_copy = copy.deepcopy(order)\n",
    "print(order_deep_copy)\n",
    "\n",
    "order_deep_copy[\"brand\"] = \"polo\"\n",
    "\n",
    "\n",
    "print(order_copy)\n",
    "print(order_deep_copy)\n",
    "\n",
    "if \"price\" in order:\n",
    "    print(\"price is present\")"
   ]
  },
  {
   "cell_type": "code",
   "execution_count": 18,
   "metadata": {},
   "outputs": [
    {
     "name": "stdout",
     "output_type": "stream",
     "text": [
      "{'a': 1, 'b': 3, 'c': 4}\n",
      "{'b'}\n",
      "{'b': 2}\n"
     ]
    }
   ],
   "source": [
    "dict1 = {\"a\": 1, \"b\": 2}\n",
    "dict2 = {\"b\": 3, \"c\": 4}\n",
    "merged = dict1 | dict2\n",
    "print(merged)  \n",
    "\n",
    "# Intersection\n",
    "intersection = dict1.keys() & dict2.keys()\n",
    "print(intersection)  \n",
    "\n",
    "# To create a new dictionary:\n",
    "intersection_dict = {key: dict1[key] for key in intersection}\n",
    "print(intersection_dict)"
   ]
  }
 ],
 "metadata": {
  "kernelspec": {
   "display_name": "Python 3",
   "language": "python",
   "name": "python3"
  },
  "language_info": {
   "codemirror_mode": {
    "name": "ipython",
    "version": 3
   },
   "file_extension": ".py",
   "mimetype": "text/x-python",
   "name": "python",
   "nbconvert_exporter": "python",
   "pygments_lexer": "ipython3",
   "version": "3.12.8"
  }
 },
 "nbformat": 4,
 "nbformat_minor": 2
}
