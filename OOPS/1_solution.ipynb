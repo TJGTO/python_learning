{
 "cells": [
  {
   "cell_type": "code",
   "execution_count": 16,
   "metadata": {},
   "outputs": [
    {
     "name": "stdout",
     "output_type": "stream",
     "text": [
      "TATA - NEXON\n",
      "TATA\n",
      "India\n",
      "10Lakh\n",
      "{'brand': 'TATA', 'model': 'NEXON', 'battery': '4000'}\n",
      "England\n"
     ]
    }
   ],
   "source": [
    "from abc import ABC, abstractmethod\n",
    "\n",
    "class Price:\n",
    "    @abstractmethod  ## abstraction\n",
    "    def getTax():\n",
    "        pass\n",
    "    \n",
    "    @abstractmethod\n",
    "    def getOnRoadPrice():\n",
    "        pass\n",
    "\n",
    "class Car(Price):\n",
    "    def __init__(self, brand , model):\n",
    "        self.__brand = brand ### private variable  \n",
    "        self.model = model\n",
    "    \n",
    "    def fullname(self):\n",
    "        return f\"{self.__brand} - {self.model}\"\n",
    "    \n",
    "    def getBrand(self):\n",
    "        return self.__brand\n",
    "\n",
    "    def getcountry(self):\n",
    "        return \"India\"\n",
    "    \n",
    "    def getOnRoadPrice(self):\n",
    "        return \"10Lakh\"\n",
    "\n",
    "class ElectricCar(Car): ## Inheritance\n",
    "    def __init__(self, brand , model ,  battery):\n",
    "        super().__init__(brand, model)\n",
    "        self.battery = battery\n",
    "    \n",
    "    def fullDetails(self):\n",
    "        result = {}\n",
    "        result[\"brand\"] = self.getBrand()\n",
    "        result[\"model\"] = self.model\n",
    "        result[\"battery\"] = self.battery\n",
    "\n",
    "        return result\n",
    "\n",
    "    def getcountry(self): ## polymorphism\n",
    "        return \"England\"\n",
    "         \n",
    "\n",
    "\n",
    "\n",
    "mycar = Car(\"TATA\", \"NEXON\")\n",
    "print(mycar.fullname())\n",
    "print(mycar.getBrand())\n",
    "print(mycar.getcountry())\n",
    "print(mycar.getOnRoadPrice())\n",
    "\n",
    "myEvcar = ElectricCar(\"TATA\", \"NEXON\" ,  \"4000\")\n",
    "print(myEvcar.fullDetails())\n",
    "print(myEvcar.getcountry())\n"
   ]
  },
  {
   "cell_type": "code",
   "execution_count": null,
   "metadata": {},
   "outputs": [],
   "source": []
  }
 ],
 "metadata": {
  "kernelspec": {
   "display_name": "Python 3",
   "language": "python",
   "name": "python3"
  },
  "language_info": {
   "codemirror_mode": {
    "name": "ipython",
    "version": 3
   },
   "file_extension": ".py",
   "mimetype": "text/x-python",
   "name": "python",
   "nbconvert_exporter": "python",
   "pygments_lexer": "ipython3",
   "version": "3.12.8"
  }
 },
 "nbformat": 4,
 "nbformat_minor": 2
}
