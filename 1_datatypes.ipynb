{
 "cells": [
  {
   "cell_type": "code",
   "execution_count": 2,
   "metadata": {},
   "outputs": [
    {
     "name": "stdout",
     "output_type": "stream",
     "text": [
      "Hello World\n"
     ]
    }
   ],
   "source": [
    "print(\"Hello World\")"
   ]
  },
  {
   "cell_type": "code",
   "execution_count": 7,
   "metadata": {},
   "outputs": [
    {
     "name": "stdout",
     "output_type": "stream",
     "text": [
      "94.0\n"
     ]
    }
   ],
   "source": [
    "age=99\n",
    "_num = 5\n",
    "\n",
    "print(float(age-_num))"
   ]
  },
  {
   "cell_type": "code",
   "execution_count": 6,
   "metadata": {},
   "outputs": [
    {
     "name": "stdout",
     "output_type": "stream",
     "text": [
      "tathagata\n",
      "TATHAGATA\n",
      "PythonPythonPython\n",
      "6\n"
     ]
    }
   ],
   "source": [
    "_name = \"Tathagata\"\n",
    "\n",
    "print(_name.lower())\n",
    "print(_name.upper())\n",
    "\n",
    "text = \"Python\"\n",
    "print(text * 3)  \n",
    "print(len(text))"
   ]
  },
  {
   "cell_type": "code",
   "execution_count": 4,
   "metadata": {},
   "outputs": [
    {
     "name": "stdout",
     "output_type": "stream",
     "text": [
      "False\n",
      "True\n",
      "False\n",
      "None\n"
     ]
    }
   ],
   "source": [
    "is_valid = True\n",
    "is_upper = False\n",
    "\n",
    "print(is_valid and is_upper)\n",
    "print(is_valid or is_upper)\n",
    "print(not is_valid)\n",
    "\n",
    "result = None\n",
    "print(None)\n"
   ]
  },
  {
   "cell_type": "code",
   "execution_count": 5,
   "metadata": {},
   "outputs": [
    {
     "name": "stdout",
     "output_type": "stream",
     "text": [
      "100\n"
     ]
    }
   ],
   "source": [
    "x = 10\n",
    "print(x ** 2)"
   ]
  },
  {
   "cell_type": "code",
   "execution_count": 8,
   "metadata": {},
   "outputs": [
    {
     "name": "stdout",
     "output_type": "stream",
     "text": [
      "124\n",
      "False\n",
      "3.14\n",
      "3\n"
     ]
    }
   ],
   "source": [
    "num = \"123\"\n",
    "converted_num = int(num)\n",
    "print(converted_num + 1)  \n",
    "\n",
    "value = 0\n",
    "print(bool(value))\n",
    "\n",
    "pi = 3.14\n",
    "print(str(pi))\n",
    "\n",
    "print(int(pi))"
   ]
  },
  {
   "cell_type": "code",
   "execution_count": 9,
   "metadata": {},
   "outputs": [
    {
     "name": "stdout",
     "output_type": "stream",
     "text": [
      "<class 'int'>\n",
      "<class 'float'>\n",
      "<class 'str'>\n",
      "<class 'bool'>\n"
     ]
    }
   ],
   "source": [
    "x = 10\n",
    "print(type(x)) \n",
    "\n",
    "y = 3.14\n",
    "print(type(y))  \n",
    "\n",
    "text = \"Hello\"\n",
    "print(type(text))  \n",
    "\n",
    "is_active = True\n",
    "print(type(is_active))  "
   ]
  }
 ],
 "metadata": {
  "kernelspec": {
   "display_name": "Python 3",
   "language": "python",
   "name": "python3"
  },
  "language_info": {
   "codemirror_mode": {
    "name": "ipython",
    "version": 3
   },
   "file_extension": ".py",
   "mimetype": "text/x-python",
   "name": "python",
   "nbconvert_exporter": "python",
   "pygments_lexer": "ipython3",
   "version": "3.12.8"
  }
 },
 "nbformat": 4,
 "nbformat_minor": 2
}
